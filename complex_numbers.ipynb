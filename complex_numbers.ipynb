{
 "cells": [
  {
   "cell_type": "code",
   "execution_count": 9,
   "id": "24ec274b-d979-438b-ae6a-590a20c7aedf",
   "metadata": {},
   "outputs": [],
   "source": [
    "#Complex Numbers conversions\n",
    "#:- a+bj\n",
    "#:- j^2=-1\n",
    "#Use a=3, b=4\n",
    "a=3\n",
    "b=4\n",
    "import math\n",
    "\n"
   ]
  },
  {
   "cell_type": "code",
   "execution_count": 23,
   "id": "fb3d3756-ac1d-4bf6-816a-55820912772a",
   "metadata": {},
   "outputs": [
    {
     "name": "stdout",
     "output_type": "stream",
     "text": [
      "z = Rectangular Form = 3 + 4j\n"
     ]
    }
   ],
   "source": [
    "#1) Rectangular Cartesian form\n",
    "# z=a+bj \n",
    "    # =>3+4j\n",
    "print(f\"z = Rectangular Form = {a} + {b}j\")\n"
   ]
  },
  {
   "cell_type": "code",
   "execution_count": 24,
   "id": "b03d2330-80e7-4c21-8e19-31ddc89643de",
   "metadata": {},
   "outputs": [
    {
     "name": "stdout",
     "output_type": "stream",
     "text": [
      "r = |z| = 5.0\n",
      "angle(theta) = 0.9272952180016122\n",
      "z = Polar Coordinates = 5.0(cos(0.9272952180016122) + j*sin(0.9272952180016122))\n"
     ]
    }
   ],
   "source": [
    "#2) Polar form\n",
    "# z = r(cos(angle)+sin(angle))----------- EQ0\n",
    "    # :- r = sqrt(a^2 +b^2)----------- EQ1 = sqrt(3^2 +4^2) \n",
    "r = math.sqrt(a**2+b**2)\n",
    "print(f\"r = |z| = {r}\")\n",
    "    # :- angle = tan^-1(b/a)----------- EQ2 => tan^-1(4/3) => 0.93 rad or 53.13 degrees\n",
    "angle = math.atan(4/3)\n",
    "print(f\"angle(theta) = {angle}\")\n",
    "    # => 5(cos(0.93)+jsin(0.93))\n",
    "print(f\"z = Polar Coordinates = {r}(cos({angle}) + j*sin({angle}))\")\n",
    "\n"
   ]
  },
  {
   "cell_type": "code",
   "execution_count": 29,
   "id": "cea51bd7-61ba-4847-8862-8346239e984b",
   "metadata": {},
   "outputs": [
    {
     "name": "stdout",
     "output_type": "stream",
     "text": [
      "z = Exponential Form = 5.0 * e^j0.9272952180016122\n"
     ]
    }
   ],
   "source": [
    "#3) Exponential Form\n",
    "# z = r*e^j*angle\n",
    "print(f\"z = Exponential Form = {r} * e^j{angle}\")"
   ]
  },
  {
   "cell_type": "code",
   "execution_count": 31,
   "id": "279ad1f2-1aa6-41bb-b706-9478cffe883a",
   "metadata": {},
   "outputs": [
    {
     "name": "stdout",
     "output_type": "stream",
     "text": [
      "z = Trigonomentric Phasor Form = 5.0∠0.9272952180016122\n"
     ]
    }
   ],
   "source": [
    "# 4) Trigonometric Phasor form\n",
    "# z = r∠angle\n",
    "print(f\"z = Trigonomentric Phasor Form = {r}∠{angle}\")"
   ]
  },
  {
   "cell_type": "code",
   "execution_count": 37,
   "id": "2934ae4a-1a05-4c2b-93c9-6ed059843a82",
   "metadata": {},
   "outputs": [
    {
     "name": "stdout",
     "output_type": "stream",
     "text": [
      "z_bar = Conjugate Complex Form = 3-4j\n"
     ]
    }
   ],
   "source": [
    "# 5) Conjugate Complex form\n",
    "# z_bar = a - bj\n",
    "print(f\"z_bar = Conjugate Complex Form = {a}-{b}j\")"
   ]
  },
  {
   "cell_type": "code",
   "execution_count": 39,
   "id": "d9fe8a3b-bbf4-4380-b341-c02b860b4c04",
   "metadata": {},
   "outputs": [
    {
     "name": "stdout",
     "output_type": "stream",
     "text": [
      "z^-1 = Inverse of Complex Number = 0.12 - j0.16\n"
     ]
    }
   ],
   "source": [
    "# 6) Inverse of Complex Number\n",
    "# z^-1 = 1/z= 1/(a+bj)\n",
    "# =>multiply (X) and devide (/) by Conjugate Complex -> a - bj\n",
    "# =>z^-1 = 1/(a+bj) * (a-bj)/(a-bj)\n",
    "# =>z^-1 = a-bj / a^- jab + jab - b^2 j^2 :- j^2 = -1\n",
    "# =>z^-1 = a-bj / a^2 +b^2\n",
    "# =>z^-1 = (a/(a^2 +b^2)) - j(b/(a^2 +b^2))\n",
    "print(f\"z^-1 = Inverse of Complex Number = {a/(a**2 +b**2)} - j{b/(a**2 +b**2)}\")"
   ]
  },
  {
   "cell_type": "code",
   "execution_count": 46,
   "id": "bd560084-d5e9-4526-9540-5f029b45cda5",
   "metadata": {},
   "outputs": [
    {
     "name": "stdout",
     "output_type": "stream",
     "text": [
      "z = Conversion from Polar to Rectangular = -0.4999999999999998 - j* 0.8660254037844387\n"
     ]
    }
   ],
   "source": [
    "#Problem: Convert Exponential form e^-j*((2*pi)/3)\n",
    "#step#01:- Identify the form -> this is exponential form\n",
    "    # z = r*e^j*angle => 1.e^-j*((2*pi)/3)\n",
    "    # Using ----------- EQ0 POLAR -> RECTANGULAR\n",
    "        # z = cos((2*pi)/3)+j*sin((2*pi)/3)\n",
    "print(f\"z = Conversion from Polar to Rectangular = {math.cos(-(2*math.pi)/3)} - j* {math.sin((2*math.pi)/3)}\")"
   ]
  }
 ],
 "metadata": {
  "kernelspec": {
   "display_name": "Python 3 (ipykernel)",
   "language": "python",
   "name": "python3"
  },
  "language_info": {
   "codemirror_mode": {
    "name": "ipython",
    "version": 3
   },
   "file_extension": ".py",
   "mimetype": "text/x-python",
   "name": "python",
   "nbconvert_exporter": "python",
   "pygments_lexer": "ipython3",
   "version": "3.11.7"
  }
 },
 "nbformat": 4,
 "nbformat_minor": 5
}
